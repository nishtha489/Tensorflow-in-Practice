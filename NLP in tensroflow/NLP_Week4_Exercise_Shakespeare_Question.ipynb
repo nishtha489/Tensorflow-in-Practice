{
  "nbformat": 4,
  "nbformat_minor": 0,
  "metadata": {
    "accelerator": "GPU",
    "colab": {
      "name": "NLP_Week4_Exercise_Shakespeare_Question.ipynb",
      "provenance": [],
      "collapsed_sections": []
    },
    "kernelspec": {
      "display_name": "Python 3",
      "name": "python3"
    }
  },
  "cells": [
    {
      "cell_type": "code",
      "metadata": {
        "id": "zX4Kg8DUTKWO",
        "colab_type": "code",
        "colab": {}
      },
      "source": [
        "#@title Licensed under the Apache License, Version 2.0 (the \"License\");\n",
        "# you may not use this file except in compliance with the License.\n",
        "# You may obtain a copy of the License at\n",
        "#\n",
        "# https://www.apache.org/licenses/LICENSE-2.0\n",
        "#\n",
        "# Unless required by applicable law or agreed to in writing, software\n",
        "# distributed under the License is distributed on an \"AS IS\" BASIS,\n",
        "# WITHOUT WARRANTIES OR CONDITIONS OF ANY KIND, either express or implied.\n",
        "# See the License for the specific language governing permissions and\n",
        "# limitations under the License."
      ],
      "execution_count": null,
      "outputs": []
    },
    {
      "cell_type": "code",
      "metadata": {
        "colab_type": "code",
        "id": "BOwsuGQQY9OL",
        "colab": {}
      },
      "source": [
        "from tensorflow.keras.preprocessing.sequence import pad_sequences\n",
        "from tensorflow.keras.layers import Embedding, LSTM, Dense, Dropout, Bidirectional\n",
        "from tensorflow.keras.preprocessing.text import Tokenizer\n",
        "from tensorflow.keras.models import Sequential\n",
        "from tensorflow.keras.optimizers import Adam\n",
        "### YOUR CODE HERE\n",
        "# Figure out how to import regularizers\n",
        "###\n",
        "from tensorflow.keras import regularizers\n",
        "import tensorflow.keras.utils as ku \n",
        "import numpy as np "
      ],
      "execution_count": null,
      "outputs": []
    },
    {
      "cell_type": "code",
      "metadata": {
        "colab_type": "code",
        "id": "PRnDnCW-Z7qv",
        "colab": {
          "base_uri": "https://localhost:8080/",
          "height": 204
        },
        "outputId": "748e7aef-bfdd-4773-84d7-c5108eb172a8"
      },
      "source": [
        "tokenizer = Tokenizer()\n",
        "!wget --no-check-certificate \\\n",
        "    https://storage.googleapis.com/laurencemoroney-blog.appspot.com/sonnets.txt \\\n",
        "    -O /tmp/sonnets.txt\n",
        "data = open('/tmp/sonnets.txt').read()\n",
        "\n",
        "corpus = data.lower().split(\"\\n\")\n",
        "\n",
        "\n",
        "tokenizer.fit_on_texts(corpus)\n",
        "total_words = len(tokenizer.word_index) + 1\n",
        "\n",
        "# create input sequences using list of tokens\n",
        "input_sequences = []\n",
        "for line in corpus:\n",
        "\ttoken_list = tokenizer.texts_to_sequences([line])[0]\n",
        "\tfor i in range(1, len(token_list)):\n",
        "\t\tn_gram_sequence = token_list[:i+1]\n",
        "\t\tinput_sequences.append(n_gram_sequence)\n",
        "\n",
        "\n",
        "# pad sequences \n",
        "max_sequence_len = max([len(x) for x in input_sequences])\n",
        "input_sequences = np.array(pad_sequences(input_sequences, maxlen=max_sequence_len, padding='pre'))\n",
        "\n",
        "# create predictors and label\n",
        "predictors, label = input_sequences[:,:-1],input_sequences[:,-1]\n",
        "\n",
        "label = ku.to_categorical(label, num_classes=total_words)"
      ],
      "execution_count": null,
      "outputs": [
        {
          "output_type": "stream",
          "text": [
            "--2020-06-10 15:06:50--  https://storage.googleapis.com/laurencemoroney-blog.appspot.com/sonnets.txt\n",
            "Resolving storage.googleapis.com (storage.googleapis.com)... 108.177.125.128, 2404:6800:4008:c03::80\n",
            "Connecting to storage.googleapis.com (storage.googleapis.com)|108.177.125.128|:443... connected.\n",
            "HTTP request sent, awaiting response... 200 OK\n",
            "Length: 93578 (91K) [text/plain]\n",
            "Saving to: ‘/tmp/sonnets.txt’\n",
            "\n",
            "\r/tmp/sonnets.txt      0%[                    ]       0  --.-KB/s               \r/tmp/sonnets.txt    100%[===================>]  91.38K  --.-KB/s    in 0.001s  \n",
            "\n",
            "2020-06-10 15:06:50 (76.5 MB/s) - ‘/tmp/sonnets.txt’ saved [93578/93578]\n",
            "\n"
          ],
          "name": "stdout"
        }
      ]
    },
    {
      "cell_type": "code",
      "metadata": {
        "colab_type": "code",
        "id": "w9vH8Y59ajYL",
        "colab": {
          "base_uri": "https://localhost:8080/",
          "height": 374
        },
        "outputId": "df53c351-4e33-4c15-cbf8-986fc2ddef9c"
      },
      "source": [
        "model = Sequential()\n",
        "model.add(Embedding(total_words, 128, input_length = max_sequence_len))\n",
        "model.add(Bidirectional(LSTM(200, return_sequences=True)))\n",
        "model.add(Dropout(0.2))\n",
        "model.add(Bidirectional(LSTM(100)))\n",
        "model.add(Dense(total_words/2, activation = 'relu', kernel_regularizer = regularizers.l2(0.01)))\n",
        "model.add(Dense(total_words, activation = 'softmax'))\n",
        "# Pick an optimizer\n",
        "model.compile(loss = 'categorical_crossentropy', metrics = ['accuracy'], optimizer = 'adam')\n",
        "print(model.summary())\n"
      ],
      "execution_count": null,
      "outputs": [
        {
          "output_type": "stream",
          "text": [
            "Model: \"sequential_2\"\n",
            "_________________________________________________________________\n",
            "Layer (type)                 Output Shape              Param #   \n",
            "=================================================================\n",
            "embedding_2 (Embedding)      (None, 11, 128)           411008    \n",
            "_________________________________________________________________\n",
            "bidirectional_4 (Bidirection (None, 11, 400)           526400    \n",
            "_________________________________________________________________\n",
            "dropout_2 (Dropout)          (None, 11, 400)           0         \n",
            "_________________________________________________________________\n",
            "bidirectional_5 (Bidirection (None, 200)               400800    \n",
            "_________________________________________________________________\n",
            "dense_2 (Dense)              (None, 1605)              322605    \n",
            "_________________________________________________________________\n",
            "dense_3 (Dense)              (None, 3211)              5156866   \n",
            "=================================================================\n",
            "Total params: 6,817,679\n",
            "Trainable params: 6,817,679\n",
            "Non-trainable params: 0\n",
            "_________________________________________________________________\n",
            "None\n"
          ],
          "name": "stdout"
        }
      ]
    },
    {
      "cell_type": "code",
      "metadata": {
        "colab_type": "code",
        "id": "AIg2f1HBxqof",
        "colab": {
          "base_uri": "https://localhost:8080/",
          "height": 1000
        },
        "outputId": "ffde91ac-ea63-44f3-cd6c-e60153b72cf1"
      },
      "source": [
        " history = model.fit(predictors, label, epochs=100, verbose=1)"
      ],
      "execution_count": null,
      "outputs": [
        {
          "output_type": "stream",
          "text": [
            "Epoch 1/100\n",
            "WARNING:tensorflow:Model was constructed with shape (None, 11) for input Tensor(\"embedding_2_input:0\", shape=(None, 11), dtype=float32), but it was called on an input with incompatible shape (None, 10).\n",
            "WARNING:tensorflow:Model was constructed with shape (None, 11) for input Tensor(\"embedding_2_input:0\", shape=(None, 11), dtype=float32), but it was called on an input with incompatible shape (None, 10).\n",
            "484/484 [==============================] - 16s 33ms/step - loss: 6.9752 - accuracy: 0.0217\n",
            "Epoch 2/100\n",
            "484/484 [==============================] - 16s 33ms/step - loss: 6.5063 - accuracy: 0.0213\n",
            "Epoch 3/100\n",
            "484/484 [==============================] - 16s 33ms/step - loss: 6.4054 - accuracy: 0.0257\n",
            "Epoch 4/100\n",
            "484/484 [==============================] - 16s 33ms/step - loss: 6.2781 - accuracy: 0.0292\n",
            "Epoch 5/100\n",
            "484/484 [==============================] - 16s 33ms/step - loss: 6.1720 - accuracy: 0.0372\n",
            "Epoch 6/100\n",
            "484/484 [==============================] - 16s 33ms/step - loss: 6.0758 - accuracy: 0.0393\n",
            "Epoch 7/100\n",
            "484/484 [==============================] - 16s 33ms/step - loss: 5.9784 - accuracy: 0.0403\n",
            "Epoch 8/100\n",
            "484/484 [==============================] - 16s 33ms/step - loss: 5.8740 - accuracy: 0.0467\n",
            "Epoch 9/100\n",
            "484/484 [==============================] - 16s 33ms/step - loss: 5.7511 - accuracy: 0.0550\n",
            "Epoch 10/100\n",
            "484/484 [==============================] - 16s 33ms/step - loss: 5.6286 - accuracy: 0.0618\n",
            "Epoch 11/100\n",
            "484/484 [==============================] - 16s 33ms/step - loss: 5.5122 - accuracy: 0.0675\n",
            "Epoch 12/100\n",
            "484/484 [==============================] - 16s 33ms/step - loss: 5.3967 - accuracy: 0.0764\n",
            "Epoch 13/100\n",
            "484/484 [==============================] - 16s 33ms/step - loss: 5.2775 - accuracy: 0.0840\n",
            "Epoch 14/100\n",
            "484/484 [==============================] - 16s 33ms/step - loss: 5.1675 - accuracy: 0.0941\n",
            "Epoch 15/100\n",
            "484/484 [==============================] - 16s 33ms/step - loss: 5.0495 - accuracy: 0.1041\n",
            "Epoch 16/100\n",
            "484/484 [==============================] - 16s 33ms/step - loss: 4.9317 - accuracy: 0.1125\n",
            "Epoch 17/100\n",
            "484/484 [==============================] - 16s 33ms/step - loss: 4.8137 - accuracy: 0.1261\n",
            "Epoch 18/100\n",
            "484/484 [==============================] - 16s 33ms/step - loss: 4.6941 - accuracy: 0.1363\n",
            "Epoch 19/100\n",
            "484/484 [==============================] - 16s 33ms/step - loss: 4.5685 - accuracy: 0.1500\n",
            "Epoch 20/100\n",
            "484/484 [==============================] - 16s 33ms/step - loss: 4.4551 - accuracy: 0.1614\n",
            "Epoch 21/100\n",
            "484/484 [==============================] - 16s 33ms/step - loss: 4.3334 - accuracy: 0.1789\n",
            "Epoch 22/100\n",
            "484/484 [==============================] - 16s 33ms/step - loss: 4.2057 - accuracy: 0.1929\n",
            "Epoch 23/100\n",
            "484/484 [==============================] - 16s 33ms/step - loss: 4.0881 - accuracy: 0.2114\n",
            "Epoch 24/100\n",
            "484/484 [==============================] - 16s 33ms/step - loss: 3.9685 - accuracy: 0.2256\n",
            "Epoch 25/100\n",
            "484/484 [==============================] - 16s 33ms/step - loss: 3.8470 - accuracy: 0.2441\n",
            "Epoch 26/100\n",
            "484/484 [==============================] - 16s 33ms/step - loss: 3.7308 - accuracy: 0.2638\n",
            "Epoch 27/100\n",
            "484/484 [==============================] - 16s 33ms/step - loss: 3.6083 - accuracy: 0.2800\n",
            "Epoch 28/100\n",
            "484/484 [==============================] - 16s 33ms/step - loss: 3.4934 - accuracy: 0.3050\n",
            "Epoch 29/100\n",
            "484/484 [==============================] - 16s 33ms/step - loss: 3.3788 - accuracy: 0.3329\n",
            "Epoch 30/100\n",
            "484/484 [==============================] - 16s 33ms/step - loss: 3.2770 - accuracy: 0.3511\n",
            "Epoch 31/100\n",
            "484/484 [==============================] - 16s 33ms/step - loss: 3.1659 - accuracy: 0.3786\n",
            "Epoch 32/100\n",
            "484/484 [==============================] - 17s 35ms/step - loss: 3.0540 - accuracy: 0.4040\n",
            "Epoch 33/100\n",
            "484/484 [==============================] - 16s 34ms/step - loss: 2.9694 - accuracy: 0.4230\n",
            "Epoch 34/100\n",
            "484/484 [==============================] - 16s 34ms/step - loss: 2.8658 - accuracy: 0.4494\n",
            "Epoch 35/100\n",
            "484/484 [==============================] - 16s 34ms/step - loss: 2.7711 - accuracy: 0.4679\n",
            "Epoch 36/100\n",
            "484/484 [==============================] - 16s 34ms/step - loss: 2.6839 - accuracy: 0.4922\n",
            "Epoch 37/100\n",
            "484/484 [==============================] - 16s 34ms/step - loss: 2.5981 - accuracy: 0.5082\n",
            "Epoch 38/100\n",
            "484/484 [==============================] - 16s 34ms/step - loss: 2.5125 - accuracy: 0.5299\n",
            "Epoch 39/100\n",
            "484/484 [==============================] - 16s 34ms/step - loss: 2.4371 - accuracy: 0.5475\n",
            "Epoch 40/100\n",
            "484/484 [==============================] - 16s 34ms/step - loss: 2.3659 - accuracy: 0.5652\n",
            "Epoch 41/100\n",
            "484/484 [==============================] - 16s 34ms/step - loss: 2.2891 - accuracy: 0.5833\n",
            "Epoch 42/100\n",
            "484/484 [==============================] - 16s 34ms/step - loss: 2.2161 - accuracy: 0.5989\n",
            "Epoch 43/100\n",
            "484/484 [==============================] - 16s 34ms/step - loss: 2.1576 - accuracy: 0.6096\n",
            "Epoch 44/100\n",
            "484/484 [==============================] - 16s 34ms/step - loss: 2.0997 - accuracy: 0.6262\n",
            "Epoch 45/100\n",
            "484/484 [==============================] - 16s 34ms/step - loss: 2.0444 - accuracy: 0.6375\n",
            "Epoch 46/100\n",
            "484/484 [==============================] - 16s 34ms/step - loss: 1.9762 - accuracy: 0.6505\n",
            "Epoch 47/100\n",
            "484/484 [==============================] - 16s 33ms/step - loss: 1.9165 - accuracy: 0.6659\n",
            "Epoch 48/100\n",
            "484/484 [==============================] - 16s 33ms/step - loss: 1.8866 - accuracy: 0.6706\n",
            "Epoch 49/100\n",
            "484/484 [==============================] - 16s 33ms/step - loss: 1.8411 - accuracy: 0.6794\n",
            "Epoch 50/100\n",
            "484/484 [==============================] - 16s 33ms/step - loss: 1.7808 - accuracy: 0.6953\n",
            "Epoch 51/100\n",
            "484/484 [==============================] - 16s 33ms/step - loss: 1.7444 - accuracy: 0.7020\n",
            "Epoch 52/100\n",
            "484/484 [==============================] - 16s 33ms/step - loss: 1.7072 - accuracy: 0.7088\n",
            "Epoch 53/100\n",
            "484/484 [==============================] - 16s 34ms/step - loss: 1.6645 - accuracy: 0.7141\n",
            "Epoch 54/100\n",
            "484/484 [==============================] - 16s 33ms/step - loss: 1.6386 - accuracy: 0.7206\n",
            "Epoch 55/100\n",
            "484/484 [==============================] - 16s 33ms/step - loss: 1.5970 - accuracy: 0.7270\n",
            "Epoch 56/100\n",
            "484/484 [==============================] - 16s 34ms/step - loss: 1.5628 - accuracy: 0.7328\n",
            "Epoch 57/100\n",
            "484/484 [==============================] - 16s 33ms/step - loss: 1.5233 - accuracy: 0.7443\n",
            "Epoch 58/100\n",
            "484/484 [==============================] - 16s 33ms/step - loss: 1.4937 - accuracy: 0.7506\n",
            "Epoch 59/100\n",
            "484/484 [==============================] - 16s 33ms/step - loss: 1.4609 - accuracy: 0.7564\n",
            "Epoch 60/100\n",
            "484/484 [==============================] - 16s 34ms/step - loss: 1.4358 - accuracy: 0.7568\n",
            "Epoch 61/100\n",
            "484/484 [==============================] - 16s 33ms/step - loss: 1.4212 - accuracy: 0.7608\n",
            "Epoch 62/100\n",
            "484/484 [==============================] - 16s 34ms/step - loss: 1.4024 - accuracy: 0.7649\n",
            "Epoch 63/100\n",
            "484/484 [==============================] - 16s 34ms/step - loss: 1.3657 - accuracy: 0.7732\n",
            "Epoch 64/100\n",
            "484/484 [==============================] - 16s 33ms/step - loss: 1.3412 - accuracy: 0.7736\n",
            "Epoch 65/100\n",
            "484/484 [==============================] - 16s 33ms/step - loss: 1.3175 - accuracy: 0.7819\n",
            "Epoch 66/100\n",
            "484/484 [==============================] - 16s 33ms/step - loss: 1.2868 - accuracy: 0.7858\n",
            "Epoch 67/100\n",
            "484/484 [==============================] - 16s 33ms/step - loss: 1.2849 - accuracy: 0.7872\n",
            "Epoch 68/100\n",
            "484/484 [==============================] - 16s 33ms/step - loss: 1.2683 - accuracy: 0.7885\n",
            "Epoch 69/100\n",
            "484/484 [==============================] - 16s 33ms/step - loss: 1.2605 - accuracy: 0.7879\n",
            "Epoch 70/100\n",
            "484/484 [==============================] - 16s 33ms/step - loss: 1.2391 - accuracy: 0.7915\n",
            "Epoch 71/100\n",
            "484/484 [==============================] - 16s 33ms/step - loss: 1.2139 - accuracy: 0.7972\n",
            "Epoch 72/100\n",
            "484/484 [==============================] - 16s 34ms/step - loss: 1.1842 - accuracy: 0.8025\n",
            "Epoch 73/100\n",
            "484/484 [==============================] - 16s 33ms/step - loss: 1.1717 - accuracy: 0.8015\n",
            "Epoch 74/100\n",
            "484/484 [==============================] - 16s 33ms/step - loss: 1.1622 - accuracy: 0.8052\n",
            "Epoch 75/100\n",
            "484/484 [==============================] - 16s 33ms/step - loss: 1.1521 - accuracy: 0.8060\n",
            "Epoch 76/100\n",
            "484/484 [==============================] - 16s 33ms/step - loss: 1.1361 - accuracy: 0.8068\n",
            "Epoch 77/100\n",
            "484/484 [==============================] - 16s 33ms/step - loss: 1.1018 - accuracy: 0.8139\n",
            "Epoch 78/100\n",
            "484/484 [==============================] - 16s 33ms/step - loss: 1.1020 - accuracy: 0.8151\n",
            "Epoch 79/100\n",
            "484/484 [==============================] - 16s 33ms/step - loss: 1.1016 - accuracy: 0.8133\n",
            "Epoch 80/100\n",
            "484/484 [==============================] - 16s 33ms/step - loss: 1.0945 - accuracy: 0.8135\n",
            "Epoch 81/100\n",
            "484/484 [==============================] - 16s 34ms/step - loss: 1.0923 - accuracy: 0.8105\n",
            "Epoch 82/100\n",
            "484/484 [==============================] - 16s 34ms/step - loss: 1.0608 - accuracy: 0.8183\n",
            "Epoch 83/100\n",
            "484/484 [==============================] - 16s 33ms/step - loss: 1.0399 - accuracy: 0.8231\n",
            "Epoch 84/100\n",
            "484/484 [==============================] - 16s 33ms/step - loss: 1.0312 - accuracy: 0.8245\n",
            "Epoch 85/100\n",
            "484/484 [==============================] - 16s 33ms/step - loss: 1.0374 - accuracy: 0.8198\n",
            "Epoch 86/100\n",
            "484/484 [==============================] - 16s 33ms/step - loss: 1.0422 - accuracy: 0.8192\n",
            "Epoch 87/100\n",
            "484/484 [==============================] - 16s 33ms/step - loss: 1.0221 - accuracy: 0.8219\n",
            "Epoch 88/100\n",
            "484/484 [==============================] - 16s 33ms/step - loss: 1.0090 - accuracy: 0.8243\n",
            "Epoch 89/100\n",
            "484/484 [==============================] - 16s 33ms/step - loss: 1.0065 - accuracy: 0.8241\n",
            "Epoch 90/100\n",
            "484/484 [==============================] - 16s 33ms/step - loss: 0.9999 - accuracy: 0.8231\n",
            "Epoch 91/100\n",
            "484/484 [==============================] - 16s 33ms/step - loss: 0.9758 - accuracy: 0.8278\n",
            "Epoch 92/100\n",
            "484/484 [==============================] - 16s 33ms/step - loss: 0.9701 - accuracy: 0.8281\n",
            "Epoch 93/100\n",
            "484/484 [==============================] - 16s 33ms/step - loss: 0.9657 - accuracy: 0.8277\n",
            "Epoch 94/100\n",
            "484/484 [==============================] - 16s 33ms/step - loss: 0.9644 - accuracy: 0.8293\n",
            "Epoch 95/100\n",
            "484/484 [==============================] - 16s 33ms/step - loss: 0.9591 - accuracy: 0.8288\n",
            "Epoch 96/100\n",
            "484/484 [==============================] - 16s 33ms/step - loss: 0.9528 - accuracy: 0.8305\n",
            "Epoch 97/100\n",
            "484/484 [==============================] - 16s 33ms/step - loss: 0.9480 - accuracy: 0.8271\n",
            "Epoch 98/100\n",
            "484/484 [==============================] - 16s 33ms/step - loss: 0.9383 - accuracy: 0.8318\n",
            "Epoch 99/100\n",
            "484/484 [==============================] - 16s 33ms/step - loss: 0.9342 - accuracy: 0.8307\n",
            "Epoch 100/100\n",
            "484/484 [==============================] - 16s 33ms/step - loss: 0.9242 - accuracy: 0.8329\n"
          ],
          "name": "stdout"
        }
      ]
    },
    {
      "cell_type": "code",
      "metadata": {
        "colab_type": "code",
        "id": "1fXTEO3GJ282",
        "colab": {
          "base_uri": "https://localhost:8080/",
          "height": 545
        },
        "outputId": "b0c5ed20-a350-4345-91d7-4ee1facc1d46"
      },
      "source": [
        "import matplotlib.pyplot as plt\n",
        "acc = history.history['accuracy']\n",
        "loss = history.history['loss']\n",
        "\n",
        "epochs = range(len(acc))\n",
        "\n",
        "plt.plot(epochs, acc, 'b', label='Training accuracy')\n",
        "plt.title('Training accuracy')\n",
        "\n",
        "plt.figure()\n",
        "\n",
        "plt.plot(epochs, loss, 'b', label='Training Loss')\n",
        "plt.title('Training loss')\n",
        "plt.legend()\n",
        "\n",
        "plt.show()"
      ],
      "execution_count": null,
      "outputs": [
        {
          "output_type": "display_data",
          "data": {
            "image/png": "[encoded data removed]",
            "text/plain": [
              "<Figure size 432x288 with 1 Axes>"
            ]
          },
          "metadata": {
            "tags": [],
            "needs_background": "light"
          }
        },
        {
          "output_type": "display_data",
          "data": {
            "image/png": "[encoded data removed]",
            "text/plain": [
              "<Figure size 432x288 with 1 Axes>"
            ]
          },
          "metadata": {
            "tags": [],
            "needs_background": "light"
          }
        }
      ]
    },
    {
      "cell_type": "code",
      "metadata": {
        "colab_type": "code",
        "id": "6Vc6PHgxa6Hm",
        "colab": {
          "base_uri": "https://localhost:8080/",
          "height": 71
        },
        "outputId": "10c08d1c-b765-41a7-c2ef-269d0b0207b9"
      },
      "source": [
        "seed_text = \"Help me Obi Wan Kenobi, you're my only hope\"\n",
        "next_words = 100\n",
        "  \n",
        "for _ in range(next_words):\n",
        "\ttoken_list = tokenizer.texts_to_sequences([seed_text])[0]\n",
        "\ttoken_list = pad_sequences([token_list], maxlen=max_sequence_len-1, padding='pre')\n",
        "\tpredicted = model.predict_classes(token_list, verbose=0)\n",
        "\toutput_word = \"\"\n",
        "\tfor word, index in tokenizer.word_index.items():\n",
        "\t\tif index == predicted:\n",
        "\t\t\toutput_word = word\n",
        "\t\t\tbreak\n",
        "\tseed_text += \" \" + output_word\n",
        "print(seed_text)"
      ],
      "execution_count": null,
      "outputs": [
        {
          "output_type": "stream",
          "text": [
            "WARNING:tensorflow:Model was constructed with shape (None, 11) for input Tensor(\"embedding_2_input:0\", shape=(None, 11), dtype=float32), but it was called on an input with incompatible shape (None, 10).\n",
            "Help me Obi Wan Kenobi, you're my only hope new confined end go days hate sight must light live away to give back assured their hate skill rare light behind pleasure rest torn night 'will must must must more rare on rare stay rest near rent lack hate 'no ' behind pleasure so old dumb men none prove you must best best kind must more bright must kind must ride sit exceeds taken behind hate behind disgrace night hate of his face must lie so dead must dead wrong part dearer wrong rhyme cherish sit about taken hate state behind away thine eyes then now his due are must\n"
          ],
          "name": "stdout"
        }
      ]
    },
    {
      "cell_type": "code",
      "metadata": {
        "id": "v4_8N2fw3aMj",
        "colab_type": "code",
        "colab": {}
      },
      "source": [
        ""
      ],
      "execution_count": null,
      "outputs": []
    }
  ]
}