{
  "nbformat": 4,
  "nbformat_minor": 0,
  "metadata": {
    "accelerator": "GPU",
    "colab": {
      "name": "NLP Course - Week 3 Exercise Question(LSTM).ipynb",
      "provenance": [],
      "collapsed_sections": []
    },
    "kernelspec": {
      "display_name": "Python 3",
      "name": "python3"
    }
  },
  "cells": [
    {
      "cell_type": "code",
      "metadata": {
        "id": "zX4Kg8DUTKWO",
        "colab_type": "code",
        "colab": {}
      },
      "source": [
        "#@title Licensed under the Apache License, Version 2.0 (the \"License\");\n",
        "# you may not use this file except in compliance with the License.\n",
        "# You may obtain a copy of the License at\n",
        "#\n",
        "# https://www.apache.org/licenses/LICENSE-2.0\n",
        "#\n",
        "# Unless required by applicable law or agreed to in writing, software\n",
        "# distributed under the License is distributed on an \"AS IS\" BASIS,\n",
        "# WITHOUT WARRANTIES OR CONDITIONS OF ANY KIND, either express or implied.\n",
        "# See the License for the specific language governing permissions and\n",
        "# limitations under the License."
      ],
      "execution_count": null,
      "outputs": []
    },
    {
      "cell_type": "code",
      "metadata": {
        "colab_type": "code",
        "id": "hmA6EzkQJ5jt",
        "colab": {}
      },
      "source": [
        "import json\n",
        "import tensorflow as tf\n",
        "import csv\n",
        "import random\n",
        "import numpy as np\n",
        "\n",
        "from tensorflow.keras.preprocessing.text import Tokenizer\n",
        "from tensorflow.keras.preprocessing.sequence import pad_sequences\n",
        "from tensorflow.keras.utils import to_categorical\n",
        "from tensorflow.keras import regularizers\n",
        "\n",
        "\n",
        "embedding_dim = 100\n",
        "max_length = 16\n",
        "trunc_type='post'\n",
        "padding_type='post'\n",
        "oov_tok = \"<OOV>\"\n",
        "training_size= 16000 #Your dataset size here. Experiment using smaller values (i.e. 16000), but don't forget to train on at least 160000 to see the best effects\n",
        "test_portion=.1\n",
        "\n",
        "corpus = []\n"
      ],
      "execution_count": null,
      "outputs": []
    },
    {
      "cell_type": "code",
      "metadata": {
        "colab_type": "code",
        "id": "bM0l_dORKqE0",
        "colab": {
          "base_uri": "https://localhost:8080/",
          "height": 204
        },
        "outputId": "e3d33d7e-3f31-4088-d23c-99cb31516928"
      },
      "source": [
        "# Note that I cleaned the Stanford dataset to remove LATIN1 encoding to make it easier for Python CSV reader\n",
        "# You can do that yourself with:\n",
        "# iconv -f LATIN1 -t UTF8 training.1600000.processed.noemoticon.csv -o training_cleaned.csv\n",
        "# I then hosted it on my site to make it easier to use in this notebook\n",
        "\n",
        "!wget --no-check-certificate \\\n",
        "    https://storage.googleapis.com/laurencemoroney-blog.appspot.com/training_cleaned.csv \\\n",
        "    -O /tmp/training_cleaned.csv\n",
        "\n",
        "num_sentences = 0\n",
        "\n",
        "with open(\"/tmp/training_cleaned.csv\") as csvfile:\n",
        "    reader = csv.reader(csvfile, delimiter=',')\n",
        "    for row in reader:\n",
        "      # Your Code here. Create list items where the first item is the text, found in row[5], and the second is the label. Note that the label is a '0' or a '4' in the text. When it's the former, make\n",
        "      # your label to be 0, otherwise 1. Keep a count of the number of sentences in num_sentences\n",
        "        list_item=[]\n",
        "        # YOUR CODE HERE\n",
        "        list_item.append(row[5])\n",
        "        this_label = row[0]\n",
        "        if this_label == '0':\n",
        "          list_item.append(0)\n",
        "        else:\n",
        "          list_item.append(1)\n",
        "        num_sentences = num_sentences + 1\n",
        "        corpus.append(list_item)\n"
      ],
      "execution_count": null,
      "outputs": [
        {
          "output_type": "stream",
          "text": [
            "--2020-06-10 14:12:30--  https://storage.googleapis.com/laurencemoroney-blog.appspot.com/training_cleaned.csv\n",
            "Resolving storage.googleapis.com (storage.googleapis.com)... 173.194.69.128, 2a00:1450:4013:c08::80\n",
            "Connecting to storage.googleapis.com (storage.googleapis.com)|173.194.69.128|:443... connected.\n",
            "HTTP request sent, awaiting response... 200 OK\n",
            "Length: 238942690 (228M) [application/octet-stream]\n",
            "Saving to: ‘/tmp/training_cleaned.csv’\n",
            "\n",
            "/tmp/training_clean 100%[===================>] 227.87M   106MB/s    in 2.2s    \n",
            "\n",
            "2020-06-10 14:12:32 (106 MB/s) - ‘/tmp/training_cleaned.csv’ saved [238942690/238942690]\n",
            "\n"
          ],
          "name": "stdout"
        }
      ]
    },
    {
      "cell_type": "code",
      "metadata": {
        "colab_type": "code",
        "id": "3kxblBUjEUX-",
        "colab": {
          "base_uri": "https://localhost:8080/",
          "height": 68
        },
        "outputId": "da738d43-bfd4-4bc3-e071-799db41b8b0d"
      },
      "source": [
        "print(num_sentences)\n",
        "print(len(corpus))\n",
        "print(corpus[1])\n",
        "\n",
        "# Expected Output:\n",
        "# 1600000\n",
        "# 1600000\n",
        "# [\"is upset that he can't update his Facebook by texting it... and might cry as a result  School today also. Blah!\", 0]"
      ],
      "execution_count": null,
      "outputs": [
        {
          "output_type": "stream",
          "text": [
            "1600000\n",
            "1600000\n",
            "[\"is upset that he can't update his Facebook by texting it... and might cry as a result  School today also. Blah!\", 0]\n"
          ],
          "name": "stdout"
        }
      ]
    },
    {
      "cell_type": "code",
      "metadata": {
        "colab_type": "code",
        "id": "ohOGz24lsNAD",
        "colab": {}
      },
      "source": [
        "sentences=[]\n",
        "labels=[]\n",
        "random.shuffle(corpus)\n",
        "for x in range(training_size):\n",
        "    sentences.append(corpus[x][0])\n",
        "    labels.append(corpus[x][1])\n",
        "\n",
        "\n",
        "tokenizer = Tokenizer()\n",
        "tokenizer.fit_on_texts(sentences)\n",
        "\n",
        "word_index = tokenizer.word_index\n",
        "vocab_size=len(word_index)\n",
        "\n",
        "sequences = tokenizer.texts_to_sequences(sentences)\n",
        "padded = pad_sequences(sequences)\n",
        "\n",
        "split = int(test_portion * training_size)\n",
        "\n",
        "test_sequences = np.array(padded[0 : split])\n",
        "training_sequences = np.array(padded[split : training_size])\n",
        "test_labels = np.array(labels[0 : split])\n",
        "training_labels = np.array(labels[split : training_size])"
      ],
      "execution_count": null,
      "outputs": []
    },
    {
      "cell_type": "code",
      "metadata": {
        "colab_type": "code",
        "id": "gIrtRem1En3N",
        "colab": {
          "base_uri": "https://localhost:8080/",
          "height": 51
        },
        "outputId": "f8422ec8-b827-469e-e296-fc40a2ad4273"
      },
      "source": [
        "print(vocab_size)\n",
        "print(word_index['i'])\n",
        "# Expected Output\n",
        "# 138858\n",
        "# 1"
      ],
      "execution_count": null,
      "outputs": [
        {
          "output_type": "stream",
          "text": [
            "26549\n",
            "1\n"
          ],
          "name": "stdout"
        }
      ]
    },
    {
      "cell_type": "code",
      "metadata": {
        "colab_type": "code",
        "id": "C1zdgJkusRh0",
        "colab": {
          "base_uri": "https://localhost:8080/",
          "height": 204
        },
        "outputId": "ee62cf25-8580-4040-b5d3-de0897a49569"
      },
      "source": [
        "# Note this is the 100 dimension version of GloVe from Stanford\n",
        "# I unzipped and hosted it on my site to make this notebook easier\n",
        "!wget --no-check-certificate \\\n",
        "    https://storage.googleapis.com/laurencemoroney-blog.appspot.com/glove.6B.100d.txt \\\n",
        "    -O /tmp/glove.6B.100d.txt\n",
        "embeddings_index = {};\n",
        "with open('/tmp/glove.6B.100d.txt') as f:\n",
        "    for line in f:\n",
        "        values = line.split();\n",
        "        word = values[0];\n",
        "        coefs = np.asarray(values[1:], dtype='float32');\n",
        "        embeddings_index[word] = coefs;\n",
        "\n",
        "embeddings_matrix = np.zeros((vocab_size+1, embedding_dim));\n",
        "for word, i in word_index.items():\n",
        "    embedding_vector = embeddings_index.get(word);\n",
        "    if embedding_vector is not None:\n",
        "        embeddings_matrix[i] = embedding_vector;"
      ],
      "execution_count": null,
      "outputs": [
        {
          "output_type": "stream",
          "text": [
            "--2020-06-10 14:12:43--  https://storage.googleapis.com/laurencemoroney-blog.appspot.com/glove.6B.100d.txt\n",
            "Resolving storage.googleapis.com (storage.googleapis.com)... 108.177.126.128, 2a00:1450:4013:c01::80\n",
            "Connecting to storage.googleapis.com (storage.googleapis.com)|108.177.126.128|:443... connected.\n",
            "HTTP request sent, awaiting response... 200 OK\n",
            "Length: 347116733 (331M) [text/plain]\n",
            "Saving to: ‘/tmp/glove.6B.100d.txt’\n",
            "\n",
            "/tmp/glove.6B.100d. 100%[===================>] 331.04M  90.0MB/s    in 3.7s    \n",
            "\n",
            "2020-06-10 14:12:48 (90.0 MB/s) - ‘/tmp/glove.6B.100d.txt’ saved [347116733/347116733]\n",
            "\n"
          ],
          "name": "stdout"
        }
      ]
    },
    {
      "cell_type": "code",
      "metadata": {
        "colab_type": "code",
        "id": "71NLk_lpFLNt",
        "colab": {
          "base_uri": "https://localhost:8080/",
          "height": 34
        },
        "outputId": "02d705b1-e9da-41b5-c0bd-abec371c25a9"
      },
      "source": [
        "print(len(embeddings_matrix))\n",
        "# Expected Output\n",
        "# 138859"
      ],
      "execution_count": null,
      "outputs": [
        {
          "output_type": "stream",
          "text": [
            "26550\n"
          ],
          "name": "stdout"
        }
      ]
    },
    {
      "cell_type": "code",
      "metadata": {
        "colab_type": "code",
        "id": "iKKvbuEBOGFz",
        "colab": {
          "base_uri": "https://localhost:8080/",
          "height": 1000
        },
        "outputId": "3fcfae08-6f04-43da-ff3e-216e1215721a"
      },
      "source": [
        "model = tf.keras.Sequential([\n",
        "    tf.keras.layers.Embedding(vocab_size+1, embedding_dim, input_length=max_length, weights=[embeddings_matrix], trainable=False),\n",
        "    tf.keras.layers.Dropout(0.2),\n",
        "    tf.keras.layers.Conv1D(64, 5, activation='relu'),\n",
        "    tf.keras.layers.MaxPooling1D(pool_size=4),\n",
        "    tf.keras.layers.LSTM(64),\n",
        "    tf.keras.layers.Dropout(0.2),\n",
        "    tf.keras.layers.Dense(1, activation='sigmoid')\n",
        "])\n",
        "model.compile(loss='binary_crossentropy',optimizer='adam',metrics=['accuracy'])\n",
        "model.summary()\n",
        "\n",
        "num_epochs = 50\n",
        "history = model.fit(training_sequences, training_labels, epochs=num_epochs, validation_data=(test_sequences, test_labels), verbose=2)\n",
        "\n",
        "print(\"Training Complete\")\n"
      ],
      "execution_count": null,
      "outputs": [
        {
          "output_type": "stream",
          "text": [
            "Model: \"sequential_2\"\n",
            "_________________________________________________________________\n",
            "Layer (type)                 Output Shape              Param #   \n",
            "=================================================================\n",
            "embedding_2 (Embedding)      (None, 16, 100)           2655000   \n",
            "_________________________________________________________________\n",
            "dropout_2 (Dropout)          (None, 16, 100)           0         \n",
            "_________________________________________________________________\n",
            "conv1d_2 (Conv1D)            (None, 12, 64)            32064     \n",
            "_________________________________________________________________\n",
            "max_pooling1d_2 (MaxPooling1 (None, 3, 64)             0         \n",
            "_________________________________________________________________\n",
            "lstm_2 (LSTM)                (None, 64)                33024     \n",
            "_________________________________________________________________\n",
            "dropout_3 (Dropout)          (None, 64)                0         \n",
            "_________________________________________________________________\n",
            "dense_2 (Dense)              (None, 1)                 65        \n",
            "=================================================================\n",
            "Total params: 2,720,153\n",
            "Trainable params: 65,153\n",
            "Non-trainable params: 2,655,000\n",
            "_________________________________________________________________\n",
            "Epoch 1/50\n",
            "WARNING:tensorflow:Model was constructed with shape (None, 16) for input Tensor(\"embedding_2_input:0\", shape=(None, 16), dtype=float32), but it was called on an input with incompatible shape (32, 36).\n",
            "WARNING:tensorflow:Model was constructed with shape (None, 16) for input Tensor(\"embedding_2_input:0\", shape=(None, 16), dtype=float32), but it was called on an input with incompatible shape (32, 36).\n",
            "WARNING:tensorflow:Model was constructed with shape (None, 16) for input Tensor(\"embedding_2_input:0\", shape=(None, 16), dtype=float32), but it was called on an input with incompatible shape (32, 36).\n",
            "450/450 - 2s - loss: 0.6260 - accuracy: 0.6466 - val_loss: 0.5838 - val_accuracy: 0.6850\n",
            "Epoch 2/50\n",
            "450/450 - 2s - loss: 0.5590 - accuracy: 0.7096 - val_loss: 0.5574 - val_accuracy: 0.7075\n",
            "Epoch 3/50\n",
            "450/450 - 2s - loss: 0.5279 - accuracy: 0.7357 - val_loss: 0.5551 - val_accuracy: 0.7038\n",
            "Epoch 4/50\n",
            "450/450 - 2s - loss: 0.4993 - accuracy: 0.7580 - val_loss: 0.5534 - val_accuracy: 0.7106\n",
            "Epoch 5/50\n",
            "450/450 - 2s - loss: 0.4745 - accuracy: 0.7717 - val_loss: 0.5638 - val_accuracy: 0.7194\n",
            "Epoch 6/50\n",
            "450/450 - 2s - loss: 0.4444 - accuracy: 0.7878 - val_loss: 0.5742 - val_accuracy: 0.7138\n",
            "Epoch 7/50\n",
            "450/450 - 2s - loss: 0.4224 - accuracy: 0.8029 - val_loss: 0.6090 - val_accuracy: 0.6888\n",
            "Epoch 8/50\n",
            "450/450 - 2s - loss: 0.4004 - accuracy: 0.8186 - val_loss: 0.5972 - val_accuracy: 0.7156\n",
            "Epoch 9/50\n",
            "450/450 - 2s - loss: 0.3767 - accuracy: 0.8285 - val_loss: 0.5999 - val_accuracy: 0.7237\n",
            "Epoch 10/50\n",
            "450/450 - 2s - loss: 0.3554 - accuracy: 0.8383 - val_loss: 0.6258 - val_accuracy: 0.7113\n",
            "Epoch 11/50\n",
            "450/450 - 2s - loss: 0.3434 - accuracy: 0.8483 - val_loss: 0.6367 - val_accuracy: 0.7325\n",
            "Epoch 12/50\n",
            "450/450 - 2s - loss: 0.3274 - accuracy: 0.8534 - val_loss: 0.6670 - val_accuracy: 0.7231\n",
            "Epoch 13/50\n",
            "450/450 - 2s - loss: 0.3142 - accuracy: 0.8617 - val_loss: 0.6711 - val_accuracy: 0.7156\n",
            "Epoch 14/50\n",
            "450/450 - 2s - loss: 0.3061 - accuracy: 0.8673 - val_loss: 0.6698 - val_accuracy: 0.7275\n",
            "Epoch 15/50\n",
            "450/450 - 2s - loss: 0.2979 - accuracy: 0.8691 - val_loss: 0.7282 - val_accuracy: 0.6944\n",
            "Epoch 16/50\n",
            "450/450 - 2s - loss: 0.2795 - accuracy: 0.8811 - val_loss: 0.7247 - val_accuracy: 0.7031\n",
            "Epoch 17/50\n",
            "450/450 - 2s - loss: 0.2800 - accuracy: 0.8793 - val_loss: 0.7184 - val_accuracy: 0.7019\n",
            "Epoch 18/50\n",
            "450/450 - 2s - loss: 0.2637 - accuracy: 0.8858 - val_loss: 0.7554 - val_accuracy: 0.7063\n",
            "Epoch 19/50\n",
            "450/450 - 2s - loss: 0.2600 - accuracy: 0.8891 - val_loss: 0.7873 - val_accuracy: 0.7044\n",
            "Epoch 20/50\n",
            "450/450 - 2s - loss: 0.2521 - accuracy: 0.8922 - val_loss: 0.7633 - val_accuracy: 0.7044\n",
            "Epoch 21/50\n",
            "450/450 - 2s - loss: 0.2357 - accuracy: 0.9015 - val_loss: 0.8252 - val_accuracy: 0.7056\n",
            "Epoch 22/50\n",
            "450/450 - 2s - loss: 0.2343 - accuracy: 0.9014 - val_loss: 0.8122 - val_accuracy: 0.7050\n",
            "Epoch 23/50\n",
            "450/450 - 2s - loss: 0.2337 - accuracy: 0.8999 - val_loss: 0.7907 - val_accuracy: 0.7019\n",
            "Epoch 24/50\n",
            "450/450 - 2s - loss: 0.2274 - accuracy: 0.9043 - val_loss: 0.8680 - val_accuracy: 0.6931\n",
            "Epoch 25/50\n",
            "450/450 - 2s - loss: 0.2222 - accuracy: 0.9080 - val_loss: 0.8661 - val_accuracy: 0.7075\n",
            "Epoch 26/50\n",
            "450/450 - 2s - loss: 0.2255 - accuracy: 0.9048 - val_loss: 0.7869 - val_accuracy: 0.7019\n",
            "Epoch 27/50\n",
            "450/450 - 2s - loss: 0.2113 - accuracy: 0.9127 - val_loss: 0.8582 - val_accuracy: 0.6994\n",
            "Epoch 28/50\n",
            "450/450 - 2s - loss: 0.2064 - accuracy: 0.9141 - val_loss: 0.8983 - val_accuracy: 0.7063\n",
            "Epoch 29/50\n",
            "450/450 - 2s - loss: 0.2070 - accuracy: 0.9165 - val_loss: 0.8512 - val_accuracy: 0.7056\n",
            "Epoch 30/50\n",
            "450/450 - 2s - loss: 0.2016 - accuracy: 0.9155 - val_loss: 0.8534 - val_accuracy: 0.6975\n",
            "Epoch 31/50\n",
            "450/450 - 2s - loss: 0.1902 - accuracy: 0.9187 - val_loss: 0.9110 - val_accuracy: 0.6906\n",
            "Epoch 32/50\n",
            "450/450 - 2s - loss: 0.1914 - accuracy: 0.9200 - val_loss: 0.9535 - val_accuracy: 0.6994\n",
            "Epoch 33/50\n",
            "450/450 - 2s - loss: 0.1921 - accuracy: 0.9218 - val_loss: 0.9160 - val_accuracy: 0.6956\n",
            "Epoch 34/50\n",
            "450/450 - 2s - loss: 0.1859 - accuracy: 0.9241 - val_loss: 0.9020 - val_accuracy: 0.6944\n",
            "Epoch 35/50\n",
            "450/450 - 2s - loss: 0.1839 - accuracy: 0.9240 - val_loss: 0.9411 - val_accuracy: 0.6963\n",
            "Epoch 36/50\n",
            "450/450 - 2s - loss: 0.1819 - accuracy: 0.9248 - val_loss: 0.9935 - val_accuracy: 0.6925\n",
            "Epoch 37/50\n",
            "450/450 - 2s - loss: 0.1769 - accuracy: 0.9283 - val_loss: 0.9343 - val_accuracy: 0.6944\n",
            "Epoch 38/50\n",
            "450/450 - 2s - loss: 0.1728 - accuracy: 0.9287 - val_loss: 0.9685 - val_accuracy: 0.7013\n",
            "Epoch 39/50\n",
            "450/450 - 2s - loss: 0.1744 - accuracy: 0.9291 - val_loss: 0.9643 - val_accuracy: 0.6956\n",
            "Epoch 40/50\n",
            "450/450 - 2s - loss: 0.1703 - accuracy: 0.9301 - val_loss: 1.0142 - val_accuracy: 0.6956\n",
            "Epoch 41/50\n",
            "450/450 - 2s - loss: 0.1657 - accuracy: 0.9316 - val_loss: 0.9827 - val_accuracy: 0.6888\n",
            "Epoch 42/50\n",
            "450/450 - 2s - loss: 0.1609 - accuracy: 0.9358 - val_loss: 1.0140 - val_accuracy: 0.6837\n",
            "Epoch 43/50\n",
            "450/450 - 2s - loss: 0.1575 - accuracy: 0.9367 - val_loss: 1.0092 - val_accuracy: 0.6825\n",
            "Epoch 44/50\n",
            "450/450 - 2s - loss: 0.1622 - accuracy: 0.9344 - val_loss: 1.0151 - val_accuracy: 0.6869\n",
            "Epoch 45/50\n",
            "450/450 - 2s - loss: 0.1612 - accuracy: 0.9360 - val_loss: 1.0324 - val_accuracy: 0.6850\n",
            "Epoch 46/50\n",
            "450/450 - 2s - loss: 0.1597 - accuracy: 0.9335 - val_loss: 1.0081 - val_accuracy: 0.6969\n",
            "Epoch 47/50\n",
            "450/450 - 2s - loss: 0.1523 - accuracy: 0.9385 - val_loss: 1.0616 - val_accuracy: 0.6862\n",
            "Epoch 48/50\n",
            "450/450 - 2s - loss: 0.1477 - accuracy: 0.9419 - val_loss: 1.0599 - val_accuracy: 0.6913\n",
            "Epoch 49/50\n",
            "450/450 - 2s - loss: 0.1529 - accuracy: 0.9386 - val_loss: 1.0461 - val_accuracy: 0.6850\n",
            "Epoch 50/50\n",
            "450/450 - 2s - loss: 0.1564 - accuracy: 0.9391 - val_loss: 0.9908 - val_accuracy: 0.6963\n",
            "Training Complete\n"
          ],
          "name": "stdout"
        }
      ]
    },
    {
      "cell_type": "code",
      "metadata": {
        "colab_type": "code",
        "id": "qxju4ItJKO8F",
        "colab": {
          "base_uri": "https://localhost:8080/",
          "height": 607
        },
        "outputId": "13c78795-c7c2-4fd0-9ffb-cd0e991a07c0"
      },
      "source": [
        "import matplotlib.image  as mpimg\n",
        "import matplotlib.pyplot as plt\n",
        "\n",
        "#-----------------------------------------------------------\n",
        "# Retrieve a list of list results on training and test data\n",
        "# sets for each training epoch\n",
        "#-----------------------------------------------------------\n",
        "acc=history.history['accuracy']\n",
        "val_acc=history.history['val_accuracy']\n",
        "loss=history.history['loss']\n",
        "val_loss=history.history['val_loss']\n",
        "\n",
        "epochs=range(len(acc)) # Get number of epochs\n",
        "\n",
        "#------------------------------------------------\n",
        "# Plot training and validation accuracy per epoch\n",
        "#------------------------------------------------\n",
        "plt.plot(epochs, acc, 'r')\n",
        "plt.plot(epochs, val_acc, 'b')\n",
        "plt.title('Training and validation accuracy')\n",
        "plt.xlabel(\"Epochs\")\n",
        "plt.ylabel(\"Accuracy\")\n",
        "plt.legend([\"Accuracy\", \"Validation Accuracy\"])\n",
        "\n",
        "plt.figure()\n",
        "\n",
        "#------------------------------------------------\n",
        "# Plot training and validation loss per epoch\n",
        "#------------------------------------------------\n",
        "plt.plot(epochs, loss, 'r')\n",
        "plt.plot(epochs, val_loss, 'b')\n",
        "plt.title('Training and validation loss')\n",
        "plt.xlabel(\"Epochs\")\n",
        "plt.ylabel(\"Loss\")\n",
        "plt.legend([\"Loss\", \"Validation Loss\"])\n",
        "\n",
        "plt.figure()\n",
        "\n",
        "\n",
        "# Expected Output\n",
        "# A chart where the validation loss does not increase sharply!"
      ],
      "execution_count": null,
      "outputs": [
        {
          "output_type": "execute_result",
          "data": {
            "text/plain": [
              "<Figure size 432x288 with 0 Axes>"
            ]
          },
          "metadata": {
            "tags": []
          },
          "execution_count": 14
        },
        {
          "output_type": "display_data",
          "data": {
            "image/png": "[encoded data removed]",
            "text/plain": [
              "<Figure size 432x288 with 1 Axes>"
            ]
          },
          "metadata": {
            "tags": [],
            "needs_background": "light"
          }
        },
        {
          "output_type": "display_data",
          "data": {
            "image/png": "[encoded data removed]",
            "text/plain": [
              "<Figure size 432x288 with 1 Axes>"
            ]
          },
          "metadata": {
            "tags": [],
            "needs_background": "light"
          }
        },
        {
          "output_type": "display_data",
          "data": {
            "text/plain": [
              "<Figure size 432x288 with 0 Axes>"
            ]
          },
          "metadata": {
            "tags": []
          }
        }
      ]
    },
    {
      "cell_type": "code",
      "metadata": {
        "id": "_E_RwnO6fnd3",
        "colab_type": "code",
        "colab": {}
      },
      "source": [
        ""
      ],
      "execution_count": null,
      "outputs": []
    }
  ]
}